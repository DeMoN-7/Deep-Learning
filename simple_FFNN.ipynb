{
 "cells": [
  {
   "cell_type": "code",
   "execution_count": null,
   "metadata": {},
   "outputs": [],
   "source": [
    "import tensorflow as tf\n",
    "from tensorflow import keras\n",
    "import numpy as np\n",
    "\n",
    "# XOR dataset\n",
    "X = np.array([[0,0], [0,1], [1,0], [1,1]])  # Input data\n",
    "y = np.array([[0], [1], [1], [0]])  # Expected XOR output\n",
    "\n",
    "# Create FFNN model\n",
    "model = keras.Sequential([\n",
    "    keras.layers.Dense(2, activation='relu', input_shape=(2,)),  # Hidden layer (2 neurons)\n",
    "    keras.layers.Dense(1, activation='sigmoid')  # Output layer (1 neuron)\n",
    "])\n",
    "\n",
    "# Compile model with loss function and optimizer (Backpropagation happens here)\n",
    "model.compile(loss='binary_crossentropy', optimizer='adam', metrics=['accuracy'])\n",
    "\n",
    "# Train model using backpropagation\n",
    "model.fit(X, y, epochs=1000, verbose=0)  \n",
    "\n",
    "# Predict XOR outputs\n",
    "predictions = model.predict(X)\n",
    "print(np.round(predictions))  # Expected output: [0, 1, 1, 0]\n"
   ]
  },
  {
   "cell_type": "code",
   "execution_count": null,
   "metadata": {},
   "outputs": [],
   "source": []
  }
 ],
 "metadata": {
  "kernelspec": {
   "display_name": "Python 3",
   "language": "python",
   "name": "python3"
  },
  "language_info": {
   "name": "python",
   "version": "3.12.4"
  }
 },
 "nbformat": 4,
 "nbformat_minor": 2
}
